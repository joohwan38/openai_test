{
  "nbformat": 4,
  "nbformat_minor": 0,
  "metadata": {
    "colab": {
      "name": "Untitled4.ipynb",
      "provenance": [],
      "mount_file_id": "1VQca9BzlPuOYXDGMYz9_XW0GJDTOrbZS",
      "authorship_tag": "ABX9TyPJJUNuQ7eNHbm/RfoocyPC",
      "include_colab_link": true
    },
    "kernelspec": {
      "name": "python3",
      "display_name": "Python 3"
    },
    "language_info": {
      "name": "python"
    }
  },
  "cells": [
    {
      "cell_type": "markdown",
      "metadata": {
        "id": "view-in-github",
        "colab_type": "text"
      },
      "source": [
        "<a href=\"https://colab.research.google.com/github/joohwan38/openai_test/blob/main/openai_test.ipynb\" target=\"_parent\"><img src=\"https://colab.research.google.com/assets/colab-badge.svg\" alt=\"Open In Colab\"/></a>"
      ]
    },
    {
      "cell_type": "code",
      "metadata": {
        "colab": {
          "base_uri": "https://localhost:8080/"
        },
        "id": "HgRl2MUiBrS5",
        "outputId": "aff6c346-55ee-4389-bec2-fe84f60b80c3"
      },
      "source": [
        "from google.colab import drive\n",
        "drive.mount('/content/drive')"
      ],
      "execution_count": 1,
      "outputs": [
        {
          "output_type": "stream",
          "text": [
            "Drive already mounted at /content/drive; to attempt to forcibly remount, call drive.mount(\"/content/drive\", force_remount=True).\n"
          ],
          "name": "stdout"
        }
      ]
    },
    {
      "cell_type": "code",
      "metadata": {
        "colab": {
          "base_uri": "https://localhost:8080/"
        },
        "id": "LmB4Sln_A32e",
        "outputId": "7f58278e-deb9-4999-dbb8-32ceb2ac0bfd"
      },
      "source": [
        "!git clone https://github.com/joohwan38/openai_test.git '/content/drive/MyDrive/Colab Notebooks/openai_test'"
      ],
      "execution_count": 3,
      "outputs": [
        {
          "output_type": "stream",
          "text": [
            "fatal: destination path '/content/drive/MyDrive/Colab Notebooks/openai_test' already exists and is not an empty directory.\n"
          ],
          "name": "stdout"
        }
      ]
    },
    {
      "cell_type": "markdown",
      "metadata": {
        "id": "bh8RdkDgCUdv"
      },
      "source": [
        "환경 만들기"
      ]
    },
    {
      "cell_type": "code",
      "metadata": {
        "colab": {
          "base_uri": "https://localhost:8080/"
        },
        "id": "HDeLqYk2BjYo",
        "outputId": "5d71a324-0c25-4830-a0b0-01046622b799"
      },
      "source": [
        "import gym\n",
        "env = gym.make(\"FrozenLake-v0\")\n",
        "observation = env.reset()\n",
        "for _ in range(1000):\n",
        "  env.render()\n",
        "  action = env.action_space.sample()\n",
        "  observation, reward, done, info = env.step(action)"
      ],
      "execution_count": null,
      "outputs": [
        {
          "output_type": "stream",
          "text": [
            "/bin/bash: gh: command not found\n"
          ],
          "name": "stdout"
        }
      ]
    },
    {
      "cell_type": "code",
      "metadata": {
        "id": "XSFZ9M4xBkW0"
      },
      "source": [
        ""
      ],
      "execution_count": null,
      "outputs": []
    }
  ]
}